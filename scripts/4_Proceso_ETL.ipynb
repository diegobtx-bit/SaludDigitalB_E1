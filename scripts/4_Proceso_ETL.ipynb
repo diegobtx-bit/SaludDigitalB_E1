{
 "cells": [
  {
   "cell_type": "markdown",
   "id": "16c243dd",
   "metadata": {},
   "source": [
    "#### Fase 4 – ETL (Limpieza de Datos)\n",
    "#### •\tEliminar duplicados\n",
    "#### •\tRellenar valores nulos en campos de transporte o destino\n",
    "#### •\tFormatear fechas\n",
    "#### •\tValidar tipos de datos\n",
    "\n",
    "#### Guardar como pacientes_clean.csv."
   ]
  },
  {
   "cell_type": "code",
   "execution_count": 1,
   "id": "04ac1c1f",
   "metadata": {},
   "outputs": [
    {
     "name": "stdout",
     "output_type": "stream",
     "text": [
      "🔍 Valores nulos antes de la limpieza:\n",
      "id_paciente          0\n",
      "nombre               0\n",
      "edad              1962\n",
      "sexo               999\n",
      "distrito           352\n",
      "servicio           519\n",
      "fecha_atencion       0\n",
      "monto             2054\n",
      "dtype: int64\n",
      "\n",
      "✅ Después de la limpieza:\n",
      "id_paciente         0\n",
      "nombre              0\n",
      "edad                0\n",
      "sexo              999\n",
      "distrito            0\n",
      "servicio            0\n",
      "fecha_atencion      0\n",
      "monto               0\n",
      "dtype: int64\n",
      "\n",
      "📁 Archivo limpio guardado en: c:\\Users\\diego\\documents\\SaludDigitalB_E1\\scripts\\..\\database\\pacientes_clean.csv\n",
      "📊 Total de registros limpios: 3000\n"
     ]
    }
   ],
   "source": [
    "import pandas as pd\n",
    "from pathlib import Path\n",
    "\n",
    "# 1️⃣ Definir rutas\n",
    "data_path = Path.cwd() / \"../data\"\n",
    "database_path = Path.cwd() / \"../database\"\n",
    "database_path.mkdir(parents=True, exist_ok=True)\n",
    "\n",
    "input_file = data_path / \"pacientes.csv\"\n",
    "output_file = database_path / \"pacientes_clean.csv\"\n",
    "\n",
    "# 2️⃣ Leer el archivo CSV original\n",
    "df = pd.read_csv(input_file)\n",
    "\n",
    "# 3️⃣ Mostrar cantidad de valores nulos antes\n",
    "print(\"🔍 Valores nulos antes de la limpieza:\")\n",
    "print(df.isnull().sum())\n",
    "\n",
    "# 4️⃣ Reemplazar valores nulos o vacíos en columnas clave\n",
    "df[\"distrito\"] = df[\"distrito\"].fillna(\"Desconocido\").replace([\"\", \"NA\"], \"Desconocido\")\n",
    "df[\"servicio\"] = df[\"servicio\"].fillna(\"General\").replace([\"\", \"NA\"], \"General\")\n",
    "\n",
    "# 5️⃣ Formatear fechas correctamente\n",
    "df[\"fecha_atencion\"] = pd.to_datetime(df[\"fecha_atencion\"], errors=\"coerce\")\n",
    "df[\"fecha_atencion\"] = df[\"fecha_atencion\"].dt.strftime(\"%Y-%m-%d\")\n",
    "\n",
    "# 6️⃣ Validar tipos de datos\n",
    "df[\"edad\"] = pd.to_numeric(df[\"edad\"], errors=\"coerce\").fillna(0).astype(int)\n",
    "df[\"monto\"] = pd.to_numeric(df[\"monto\"], errors=\"coerce\").fillna(0.0).astype(float)\n",
    "\n",
    "# 7️⃣ Eliminar filas completamente vacías o duplicadas\n",
    "df.dropna(how=\"all\", inplace=True)\n",
    "df.drop_duplicates(inplace=True)\n",
    "\n",
    "# 8️⃣ Mostrar resumen después de la limpieza\n",
    "print(\"\\n✅ Después de la limpieza:\")\n",
    "print(df.isnull().sum())\n",
    "\n",
    "# 9️⃣ Guardar el nuevo archivo limpio\n",
    "df.to_csv(output_file, index=False, encoding=\"utf-8\")\n",
    "print(f\"\\n📁 Archivo limpio guardado en: {output_file}\")\n",
    "print(f\"📊 Total de registros limpios: {len(df)}\")"
   ]
  }
 ],
 "metadata": {
  "kernelspec": {
   "display_name": "myenv",
   "language": "python",
   "name": "python3"
  },
  "language_info": {
   "codemirror_mode": {
    "name": "ipython",
    "version": 3
   },
   "file_extension": ".py",
   "mimetype": "text/x-python",
   "name": "python",
   "nbconvert_exporter": "python",
   "pygments_lexer": "ipython3",
   "version": "3.13.7"
  }
 },
 "nbformat": 4,
 "nbformat_minor": 5
}
