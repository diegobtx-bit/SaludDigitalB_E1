{
 "cells": [
  {
   "cell_type": "markdown",
   "id": "d2c310fa",
   "metadata": {},
   "source": [
    "#### 1.\tCreación carpetas"
   ]
  },
  {
   "cell_type": "code",
   "execution_count": 1,
   "id": "0ab3835e",
   "metadata": {},
   "outputs": [
    {
     "name": "stdout",
     "output_type": "stream",
     "text": [
      "✅ Carpeta 'data' lista en c:\\Users\\diego\\documents\\SaludDigitalB_E1\\scripts\\..\\data\n",
      "✅ Carpeta 'database' lista en c:\\Users\\diego\\documents\\SaludDigitalB_E1\\scripts\\..\\database\n",
      "✅ Carpeta 'scripts' lista en c:\\Users\\diego\\documents\\SaludDigitalB_E1\\scripts\\..\\scripts\n",
      "✅ Carpeta 'reports' lista en c:\\Users\\diego\\documents\\SaludDigitalB_E1\\scripts\\..\\reports\n",
      "✅ Carpeta 'ci' lista en c:\\Users\\diego\\documents\\SaludDigitalB_E1\\scripts\\..\\ci\n",
      "✅ Carpeta 'git' lista en c:\\Users\\diego\\documents\\SaludDigitalB_E1\\scripts\\..\\git\n"
     ]
    }
   ],
   "source": [
    "from pathlib import Path\n",
    "\n",
    "# Rutas de carpetas del proyecto\n",
    "carpetas = [\"data\", \"database\", \"scripts\", \"reports\", \"ci\", \"git\"]\n",
    "\n",
    "for carpeta in carpetas:\n",
    "    ruta = Path.cwd() / f\"../{carpeta}\"\n",
    "    ruta.mkdir(parents=True, exist_ok=True)\n",
    "    print(f\"✅ Carpeta '{carpeta}' lista en {ruta}\")\n",
    "\n"
   ]
  }
 ],
 "metadata": {
  "kernelspec": {
   "display_name": "myenv",
   "language": "python",
   "name": "python3"
  },
  "language_info": {
   "codemirror_mode": {
    "name": "ipython",
    "version": 3
   },
   "file_extension": ".py",
   "mimetype": "text/x-python",
   "name": "python",
   "nbconvert_exporter": "python",
   "pygments_lexer": "ipython3",
   "version": "3.13.7"
  }
 },
 "nbformat": 4,
 "nbformat_minor": 5
}
