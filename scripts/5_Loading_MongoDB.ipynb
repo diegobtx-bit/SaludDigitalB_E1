{
 "cells": [
  {
   "cell_type": "markdown",
   "id": "8cc5b8fd",
   "metadata": {},
   "source": [
    "### Fase 5 – Carga en MongoDB\n",
    "### Crear base de datos SaludDigital_2025 y colección pacientes\n",
    "### Insertar los registros limpios desde CSV."
   ]
  },
  {
   "cell_type": "code",
   "execution_count": 1,
   "id": "e51e2026",
   "metadata": {},
   "outputs": [
    {
     "name": "stdout",
     "output_type": "stream",
     "text": [
      "🧹 Colección 'pacientes' vaciada antes de insertar nuevos datos.\n",
      "✅ Datos insertados en MongoDB correctamente.\n"
     ]
    }
   ],
   "source": [
    "import pandas as pd\n",
    "from pymongo import MongoClient\n",
    "\n",
    "# 1️⃣ Conexión a MongoDB local\n",
    "client = MongoClient(\"mongodb://localhost:27017/\")\n",
    "\n",
    "# 2️⃣ Crear base de datos y colección\n",
    "db = client[\"SaludDigital_2025\"]\n",
    "collection = db[\"pacientes\"]\n",
    "\n",
    "# 3️⃣ Eliminar registros previos (para evitar duplicados)\n",
    "collection.delete_many({})\n",
    "print(\"🧹 Colección 'pacientes' vaciada antes de insertar nuevos datos.\")\n",
    "\n",
    "# 4️⃣ Leer datos limpios\n",
    "df = pd.read_csv(\"../database/pacientes_clean.csv\")\n",
    "\n",
    "# 5️⃣ Insertar datos en MongoDB\n",
    "data = df.to_dict(orient=\"records\")\n",
    "collection.insert_many(data)\n",
    "print(\"✅ Datos insertados en MongoDB correctamente.\")"
   ]
  },
  {
   "cell_type": "code",
   "execution_count": 2,
   "id": "eeec9f57",
   "metadata": {},
   "outputs": [
    {
     "name": "stdout",
     "output_type": "stream",
     "text": [
      "\n",
      "📋 Primeros registros:\n",
      "{'id_paciente': 'P0001', 'nombre': 'Luis Pérez', 'distrito': 'Magdalena', 'servicio': 'Traumatología'}\n",
      "{'id_paciente': 'P0002', 'nombre': 'Carmen Flores', 'distrito': 'Cajamarca', 'servicio': 'Traumatología'}\n",
      "{'id_paciente': 'P0003', 'nombre': 'Carmen Flores', 'distrito': 'Cajamarca', 'servicio': 'General'}\n",
      "{'id_paciente': 'P0004', 'nombre': 'Carmen Flores', 'distrito': 'Encañada', 'servicio': 'Odontología'}\n",
      "{'id_paciente': 'P0005', 'nombre': 'Diego Ramos', 'distrito': 'Encañada', 'servicio': 'Traumatología'}\n"
     ]
    }
   ],
   "source": [
    "\n",
    "# 6️⃣ Mostrar algunos registros de ejemplo\n",
    "print(\"\\n📋 Primeros registros:\")\n",
    "for doc in collection.find({}, {\"_id\": 0, \"id_paciente\": 1, \"nombre\": 1, \"distrito\": 1, \"servicio\": 1}).limit(5):\n",
    "    print(doc)"
   ]
  },
  {
   "cell_type": "code",
   "execution_count": 3,
   "id": "8dd9f415",
   "metadata": {},
   "outputs": [
    {
     "name": "stdout",
     "output_type": "stream",
     "text": [
      "\n",
      "📊 Total de registros en la colección: 3000\n"
     ]
    }
   ],
   "source": [
    "\n",
    "# 7️⃣ Contar total de documentos\n",
    "total = collection.count_documents({})\n",
    "print(f\"\\n📊 Total de registros en la colección: {total}\")"
   ]
  },
  {
   "cell_type": "code",
   "execution_count": 4,
   "id": "b2b16392",
   "metadata": {},
   "outputs": [
    {
     "name": "stdout",
     "output_type": "stream",
     "text": [
      "\n",
      "🏥 Pacientes de Baños del Inca:\n",
      "{'nombre': 'Carmen Flores', 'servicio': 'Traumatología'}\n",
      "{'nombre': 'Luis Pérez', 'servicio': 'Ginecología'}\n",
      "{'nombre': 'Carmen Flores', 'servicio': 'Pediatría'}\n",
      "{'nombre': 'Carlos Ruiz', 'servicio': 'General'}\n",
      "{'nombre': 'Luis Pérez', 'servicio': 'Ginecología'}\n"
     ]
    }
   ],
   "source": [
    "# 8️⃣ Consultar pacientes del distrito 'Baños del Inca'\n",
    "print(\"\\n🏥 Pacientes de Baños del Inca:\")\n",
    "for doc in collection.find({\"distrito\": \"Baños del Inca\"}, {\"_id\": 0, \"nombre\": 1, \"servicio\": 1}).limit(5):\n",
    "    print(doc)"
   ]
  }
 ],
 "metadata": {
  "kernelspec": {
   "display_name": "myenv",
   "language": "python",
   "name": "python3"
  },
  "language_info": {
   "codemirror_mode": {
    "name": "ipython",
    "version": 3
   },
   "file_extension": ".py",
   "mimetype": "text/x-python",
   "name": "python",
   "nbconvert_exporter": "python",
   "pygments_lexer": "ipython3",
   "version": "3.13.7"
  }
 },
 "nbformat": 4,
 "nbformat_minor": 5
}
